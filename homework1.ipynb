{
 "cells": [
  {
   "cell_type": "code",
   "execution_count": 1,
   "metadata": {},
   "outputs": [],
   "source": [
    "import numpy\n",
    "import urllib\n",
    "import scipy.optimize\n",
    "import random"
   ]
  },
  {
   "cell_type": "code",
   "execution_count": 2,
   "metadata": {},
   "outputs": [],
   "source": [
    "def parseData(fname):\n",
    "  for l in urllib.request.urlopen(fname):\n",
    "    yield eval(l)"
   ]
  },
  {
   "cell_type": "code",
   "execution_count": 3,
   "metadata": {},
   "outputs": [
    {
     "name": "stdout",
     "output_type": "stream",
     "text": [
      "Reading data...\n",
      "done\n"
     ]
    }
   ],
   "source": [
    "print (\"Reading data...\")\n",
    "data = list(parseData(\"http://jmcauley.ucsd.edu/cse190/data/beer/beer_50000.json\"))\n",
    "print (\"done\")"
   ]
  },
  {
   "cell_type": "code",
   "execution_count": 4,
   "metadata": {},
   "outputs": [],
   "source": [
    "###part 1"
   ]
  },
  {
   "cell_type": "code",
   "execution_count": 5,
   "metadata": {},
   "outputs": [],
   "source": [
    "def feature(datum):\n",
    "  feat = [1]\n",
    "  return feat"
   ]
  },
  {
   "cell_type": "code",
   "execution_count": 6,
   "metadata": {},
   "outputs": [
    {
     "name": "stderr",
     "output_type": "stream",
     "text": [
      "/usr/local/lib/python3.6/dist-packages/ipykernel_launcher.py:3: FutureWarning: `rcond` parameter will change to the default of machine precision times ``max(M, N)`` where M and N are the input matrix dimensions.\n",
      "To use the future default and silence this warning we advise to pass `rcond=None`, to keep using the old, explicitly pass `rcond=-1`.\n",
      "  This is separate from the ipykernel package so we can avoid doing imports until\n"
     ]
    }
   ],
   "source": [
    "X = [feature(d) for d in data]\n",
    "y = [d['review/taste'] for d in data]\n",
    "theta,residuals,rank,s = numpy.linalg.lstsq(X, y)\n"
   ]
  },
  {
   "cell_type": "code",
   "execution_count": 7,
   "metadata": {},
   "outputs": [
    {
     "name": "stdout",
     "output_type": "stream",
     "text": [
      "{1.5: 343, 3.0: 4137, 4.5: 12883, 3.5: 8797, 4.0: 16575, 2.0: 1099, 5.0: 4331, 2.5: 1624, 1.0: 211}\n"
     ]
    }
   ],
   "source": [
    "dict = {}\n",
    "for key in y:\n",
    "    dict[key] = dict.get(key, 0) + 1\n",
    "print (dict)"
   ]
  },
  {
   "cell_type": "code",
   "execution_count": 8,
   "metadata": {},
   "outputs": [],
   "source": [
    "##part 2"
   ]
  },
  {
   "cell_type": "code",
   "execution_count": 9,
   "metadata": {},
   "outputs": [],
   "source": [
    "data2 = [d for d in data if 'beer/ABV' in d]"
   ]
  },
  {
   "cell_type": "code",
   "execution_count": 10,
   "metadata": {},
   "outputs": [],
   "source": [
    "def feature(datum):\n",
    "  feat = [2]\n",
    "  if datum['beer/style'] == \"Hefeweizen\":\n",
    "    feat.append(1)\n",
    "  else:\n",
    "    feat.append(0)\n",
    "  feat.append(datum['beer/ABV'])\n",
    "  return feat"
   ]
  },
  {
   "cell_type": "code",
   "execution_count": 11,
   "metadata": {},
   "outputs": [
    {
     "name": "stdout",
     "output_type": "stream",
     "text": [
      "1.5589754212370508\n",
      "-0.05637405770381721\n",
      "0.1087790163920826\n"
     ]
    },
    {
     "name": "stderr",
     "output_type": "stream",
     "text": [
      "/usr/local/lib/python3.6/dist-packages/ipykernel_launcher.py:3: FutureWarning: `rcond` parameter will change to the default of machine precision times ``max(M, N)`` where M and N are the input matrix dimensions.\n",
      "To use the future default and silence this warning we advise to pass `rcond=None`, to keep using the old, explicitly pass `rcond=-1`.\n",
      "  This is separate from the ipykernel package so we can avoid doing imports until\n"
     ]
    }
   ],
   "source": [
    "X = [feature(d) for d in data2]\n",
    "y = [d['review/taste'] for d in data2]\n",
    "theta,residuals,rank,s = numpy.linalg.lstsq(X, y)\n",
    "print(theta[0])\n",
    "print(theta[1])\n",
    "print(theta[2])"
   ]
  },
  {
   "cell_type": "code",
   "execution_count": 12,
   "metadata": {},
   "outputs": [
    {
     "name": "stdout",
     "output_type": "stream",
     "text": [
      "Fitted values for theta[0]: 1.5589754212370508 and theta[1]: -0.05637405770381721 and theta[2]: 0.1087790163920826\n",
      "Theta[0] means that at an ABV of zero, the taste will probably be at around a 3.\n",
      "If a beer is a Hefeweizen, the taste increases by -0.05637405770381721\n",
      "As a function of a beer's ABV, the taste increases by 0.1087790163920826\n"
     ]
    }
   ],
   "source": [
    "print (\"Fitted values for theta[0]: \" + str(theta[0]) + \" and theta[1]: \" + str(theta[1])+ \" and theta[2]: \" + str(theta[2]))\n",
    "print (\"Theta[0] means that at an ABV of zero, the taste will probably be at around a 3.\")\n",
    "print (\"If a beer is a Hefeweizen, the taste increases by \" + str(theta[1]))\n",
    "print (\"As a function of a beer's ABV, the taste increases by \" + str(theta[2]))"
   ]
  },
  {
   "cell_type": "code",
   "execution_count": 13,
   "metadata": {},
   "outputs": [],
   "source": [
    "##part 3"
   ]
  },
  {
   "cell_type": "code",
   "execution_count": 14,
   "metadata": {},
   "outputs": [],
   "source": [
    "data1 = data[:25000]\n",
    "data2 = data[25000:50000]"
   ]
  },
  {
   "cell_type": "code",
   "execution_count": 15,
   "metadata": {},
   "outputs": [
    {
     "name": "stdout",
     "output_type": "stream",
     "text": [
      "[0.48396806]\n"
     ]
    },
    {
     "name": "stderr",
     "output_type": "stream",
     "text": [
      "/usr/local/lib/python3.6/dist-packages/ipykernel_launcher.py:4: FutureWarning: `rcond` parameter will change to the default of machine precision times ``max(M, N)`` where M and N are the input matrix dimensions.\n",
      "To use the future default and silence this warning we advise to pass `rcond=None`, to keep using the old, explicitly pass `rcond=-1`.\n",
      "  after removing the cwd from sys.path.\n"
     ]
    }
   ],
   "source": [
    "trainingSet = [d for d in data1 if 'beer/ABV' in d]\n",
    "X1 = [feature(d) for d in trainingSet]\n",
    "y1 = [d['review/taste'] for d in trainingSet]\n",
    "theta,residuals,rank,s = numpy.linalg.lstsq(X1, y1)\n",
    "mse = residuals/len(y1)\n",
    "print(mse)"
   ]
  },
  {
   "cell_type": "code",
   "execution_count": 16,
   "metadata": {},
   "outputs": [
    {
     "name": "stdout",
     "output_type": "stream",
     "text": [
      "[0.40811575]\n"
     ]
    },
    {
     "name": "stderr",
     "output_type": "stream",
     "text": [
      "/usr/local/lib/python3.6/dist-packages/ipykernel_launcher.py:4: FutureWarning: `rcond` parameter will change to the default of machine precision times ``max(M, N)`` where M and N are the input matrix dimensions.\n",
      "To use the future default and silence this warning we advise to pass `rcond=None`, to keep using the old, explicitly pass `rcond=-1`.\n",
      "  after removing the cwd from sys.path.\n"
     ]
    }
   ],
   "source": [
    "testSet = [d for d in data2 if 'beer/ABV' in d]\n",
    "X2 = [feature(d) for d in testSet]\n",
    "y2 = [d['review/taste'] for d in testSet]\n",
    "theta,residuals,rank,s = numpy.linalg.lstsq(X2, y2)\n",
    "mse = residuals/len(y2)\n",
    "print(mse)"
   ]
  },
  {
   "cell_type": "code",
   "execution_count": null,
   "metadata": {},
   "outputs": [],
   "source": []
  },
  {
   "cell_type": "code",
   "execution_count": 17,
   "metadata": {},
   "outputs": [],
   "source": [
    "##part 4"
   ]
  },
  {
   "cell_type": "code",
   "execution_count": 18,
   "metadata": {},
   "outputs": [],
   "source": [
    "random.shuffle(data)\n",
    "\n",
    "data1 = data[:25000]\n",
    "data2 = data[25000:]"
   ]
  },
  {
   "cell_type": "code",
   "execution_count": 19,
   "metadata": {},
   "outputs": [
    {
     "name": "stdout",
     "output_type": "stream",
     "text": [
      "[0.44255046]\n"
     ]
    },
    {
     "name": "stderr",
     "output_type": "stream",
     "text": [
      "/usr/local/lib/python3.6/dist-packages/ipykernel_launcher.py:5: FutureWarning: `rcond` parameter will change to the default of machine precision times ``max(M, N)`` where M and N are the input matrix dimensions.\n",
      "To use the future default and silence this warning we advise to pass `rcond=None`, to keep using the old, explicitly pass `rcond=-1`.\n",
      "  \"\"\"\n"
     ]
    }
   ],
   "source": [
    "trainingSet = [d for d in data1 if 'beer/ABV' in d]\n",
    "\n",
    "X1 = [feature(d) for d in trainingSet]\n",
    "y1 = [d['review/taste'] for d in trainingSet]\n",
    "theta,residuals,rank,s = numpy.linalg.lstsq(X1, y1)\n",
    "mse = residuals/len(y1)\n",
    "print(mse)"
   ]
  },
  {
   "cell_type": "code",
   "execution_count": 20,
   "metadata": {},
   "outputs": [
    {
     "name": "stdout",
     "output_type": "stream",
     "text": [
      "[0.45658305]\n"
     ]
    },
    {
     "name": "stderr",
     "output_type": "stream",
     "text": [
      "/usr/local/lib/python3.6/dist-packages/ipykernel_launcher.py:5: FutureWarning: `rcond` parameter will change to the default of machine precision times ``max(M, N)`` where M and N are the input matrix dimensions.\n",
      "To use the future default and silence this warning we advise to pass `rcond=None`, to keep using the old, explicitly pass `rcond=-1`.\n",
      "  \"\"\"\n"
     ]
    }
   ],
   "source": [
    "testSet = [d for d in data2 if 'beer/ABV' in d]\n",
    "\n",
    "X2 = [feature(d) for d in testSet]\n",
    "y2 = [d['review/taste'] for d in testSet]\n",
    "theta,residuals,rank,s = numpy.linalg.lstsq(X2, y2)\n",
    "mse = residuals/len(y2)\n",
    "print(mse)"
   ]
  },
  {
   "cell_type": "code",
   "execution_count": null,
   "metadata": {},
   "outputs": [],
   "source": [
    "#The possible reason why the result may be different from the previous \n",
    "#experiment is that in this question, we use radom data,\n",
    "#this can let the data more average, leding to more lower MSE."
   ]
  },
  {
   "cell_type": "code",
   "execution_count": 21,
   "metadata": {},
   "outputs": [],
   "source": [
    "##part 5"
   ]
  },
  {
   "cell_type": "code",
   "execution_count": 22,
   "metadata": {},
   "outputs": [],
   "source": [
    "data2 = [d for d in data if 'beer/ABV' in d]"
   ]
  },
  {
   "cell_type": "code",
   "execution_count": 23,
   "metadata": {},
   "outputs": [],
   "source": [
    "def feature(datum):\n",
    "  feat = [2]\n",
    "  if datum['beer/style'] == \"Hefeweizen\":\n",
    "    feat.append(datum['beer/ABV'])\n",
    "  else:\n",
    "    feat.append(0)\n",
    "  if datum['beer/style'] != \"Hefeweizen\":\n",
    "    feat.append(datum['beer/ABV'])\n",
    "  else:\n",
    "    feat.append(0)\n",
    "  return feat"
   ]
  },
  {
   "cell_type": "code",
   "execution_count": 24,
   "metadata": {},
   "outputs": [
    {
     "name": "stdout",
     "output_type": "stream",
     "text": [
      "[1.55903281 0.09745261 0.108769  ]\n"
     ]
    },
    {
     "name": "stderr",
     "output_type": "stream",
     "text": [
      "/usr/local/lib/python3.6/dist-packages/ipykernel_launcher.py:3: FutureWarning: `rcond` parameter will change to the default of machine precision times ``max(M, N)`` where M and N are the input matrix dimensions.\n",
      "To use the future default and silence this warning we advise to pass `rcond=None`, to keep using the old, explicitly pass `rcond=-1`.\n",
      "  This is separate from the ipykernel package so we can avoid doing imports until\n"
     ]
    }
   ],
   "source": [
    "X = [feature(d) for d in data2]\n",
    "y = [d['review/taste'] for d in data2]\n",
    "theta,residuals,rank,s = numpy.linalg.lstsq(X, y)\n",
    "print(theta)\n"
   ]
  },
  {
   "cell_type": "code",
   "execution_count": 25,
   "metadata": {},
   "outputs": [],
   "source": [
    "random.shuffle(data)\n",
    "\n",
    "data1 = data[:25000]\n",
    "data2 = data[25000:]"
   ]
  },
  {
   "cell_type": "code",
   "execution_count": 26,
   "metadata": {},
   "outputs": [
    {
     "name": "stdout",
     "output_type": "stream",
     "text": [
      "[0.45249781]\n"
     ]
    },
    {
     "name": "stderr",
     "output_type": "stream",
     "text": [
      "/usr/local/lib/python3.6/dist-packages/ipykernel_launcher.py:5: FutureWarning: `rcond` parameter will change to the default of machine precision times ``max(M, N)`` where M and N are the input matrix dimensions.\n",
      "To use the future default and silence this warning we advise to pass `rcond=None`, to keep using the old, explicitly pass `rcond=-1`.\n",
      "  \"\"\"\n"
     ]
    }
   ],
   "source": [
    "trainingSet = [d for d in data1 if 'beer/ABV' in d]\n",
    "\n",
    "X1 = [feature(d) for d in trainingSet]\n",
    "y1 = [d['review/taste'] for d in trainingSet]\n",
    "theta,residuals,rank,s = numpy.linalg.lstsq(X1, y1)\n",
    "mse = residuals/len(y1)\n",
    "print(mse)"
   ]
  },
  {
   "cell_type": "code",
   "execution_count": 27,
   "metadata": {},
   "outputs": [
    {
     "name": "stdout",
     "output_type": "stream",
     "text": [
      "[0.44675203]\n"
     ]
    },
    {
     "name": "stderr",
     "output_type": "stream",
     "text": [
      "/usr/local/lib/python3.6/dist-packages/ipykernel_launcher.py:5: FutureWarning: `rcond` parameter will change to the default of machine precision times ``max(M, N)`` where M and N are the input matrix dimensions.\n",
      "To use the future default and silence this warning we advise to pass `rcond=None`, to keep using the old, explicitly pass `rcond=-1`.\n",
      "  \"\"\"\n"
     ]
    }
   ],
   "source": [
    "testSet = [d for d in data2 if 'beer/ABV' in d]\n",
    "\n",
    "X2 = [feature(d) for d in testSet]\n",
    "y2 = [d['review/taste'] for d in testSet]\n",
    "theta,residuals,rank,s = numpy.linalg.lstsq(X2, y2)\n",
    "mse = residuals/len(y2)\n",
    "print(mse)"
   ]
  },
  {
   "cell_type": "code",
   "execution_count": null,
   "metadata": {},
   "outputs": [],
   "source": [
    "##part6"
   ]
  },
  {
   "cell_type": "code",
   "execution_count": null,
   "metadata": {},
   "outputs": [],
   "source": [
    "#The second model has a lower MSE.\n",
    "#Since in the second model, the paramethers will be more \n",
    "#influnencial than the parameters in the first model. \n",
    "#And in the second model, two parameters are orthogonal, and \n",
    "#in the first model, the two parameters are not orthoggonals."
   ]
  },
  {
   "cell_type": "code",
   "execution_count": 28,
   "metadata": {},
   "outputs": [],
   "source": [
    "##week 2"
   ]
  },
  {
   "cell_type": "code",
   "execution_count": 29,
   "metadata": {},
   "outputs": [],
   "source": [
    "##part1"
   ]
  },
  {
   "cell_type": "code",
   "execution_count": 30,
   "metadata": {},
   "outputs": [],
   "source": [
    "X = [[d['review/taste'], d['review/appearance'],d['review/aroma'],d['review/palate'],d['review/overall']] for d in data]\n",
    "y = [d['beer/style'] == 'Hefeweizen' for d in data]"
   ]
  },
  {
   "cell_type": "code",
   "execution_count": 31,
   "metadata": {},
   "outputs": [],
   "source": [
    "from sklearn import svm\n",
    "random.shuffle(X)\n",
    "random.shuffle(y)\n",
    "X_train = X[:25000]\n",
    "X_test = X[25000:]\n",
    "y_train = y[:25000]\n",
    "y_test = y[25000:]\n"
   ]
  },
  {
   "cell_type": "code",
   "execution_count": 32,
   "metadata": {},
   "outputs": [
    {
     "data": {
      "text/plain": [
       "array([False, False, False, ..., False, False, False])"
      ]
     },
     "execution_count": 32,
     "metadata": {},
     "output_type": "execute_result"
    }
   ],
   "source": [
    "# Setting up the SVM\n",
    "clf = svm.SVC(C=1000, kernel='linear')\n",
    "clf.fit(X_train, y_train)\n",
    "# Retrieving predictions from trained SVM\n",
    "train_predictions = clf.predict(X_train)\n",
    "test_predictions = clf.predict(X_test)\n",
    "train_predictions"
   ]
  },
  {
   "cell_type": "code",
   "execution_count": 33,
   "metadata": {},
   "outputs": [
    {
     "name": "stdout",
     "output_type": "stream",
     "text": [
      "\n",
      "Accuracy training\n",
      "0.98828\n",
      "\n",
      "Accuray Test-set\n",
      "0.987\n"
     ]
    }
   ],
   "source": [
    "# Calculate accuracy\n",
    "percentage_train = sum([ y_train[i] == train_predictions[i] for i in range(25000)]) / float(25000)\n",
    "percentage_test =  sum([ y_test[i] == test_predictions[i] for i in range(25000)]) / float(25000)\n",
    "    \n",
    "print (\"\\nAccuracy training\")\n",
    "print (percentage_train)\n",
    "print (\"\\nAccuray Test-set\")\n",
    "print (percentage_test)"
   ]
  },
  {
   "cell_type": "code",
   "execution_count": 34,
   "metadata": {},
   "outputs": [],
   "source": [
    "##part 2"
   ]
  },
  {
   "cell_type": "code",
   "execution_count": 35,
   "metadata": {},
   "outputs": [],
   "source": [
    "def feature_extractor(d):\n",
    "    return [\n",
    "        d['beer/ABV'],\n",
    "        'Hefeweizen' in d['review/text']\n",
    "        \n",
    "    ]\n",
    "\n",
    "X = [feature_extractor(d) for d in data]\n",
    "y = [d['beer/style'] == 'Hefeweizen' for d in data]\n",
    "\n"
   ]
  },
  {
   "cell_type": "code",
   "execution_count": 37,
   "metadata": {},
   "outputs": [],
   "source": [
    "from sklearn import svm\n",
    "random.shuffle(X)\n",
    "random.shuffle(y)\n",
    "X_train = X[:25000]\n",
    "X_test = X[25000:]\n",
    "y_train = y[:25000]\n",
    "y_test = y[25000:]\n"
   ]
  },
  {
   "cell_type": "code",
   "execution_count": 38,
   "metadata": {},
   "outputs": [
    {
     "data": {
      "text/plain": [
       "array([False, False, False, ..., False, False, False])"
      ]
     },
     "execution_count": 38,
     "metadata": {},
     "output_type": "execute_result"
    }
   ],
   "source": [
    "# Setting up the SVM\n",
    "clf = svm.SVC(C=1000, kernel='linear')\n",
    "clf.fit(X_train, y_train)\n",
    "# Retrieving predictions from trained SVM\n",
    "train_predictions = clf.predict(X_train)\n",
    "test_predictions = clf.predict(X_test)\n",
    "train_predictions"
   ]
  },
  {
   "cell_type": "code",
   "execution_count": 39,
   "metadata": {},
   "outputs": [
    {
     "name": "stdout",
     "output_type": "stream",
     "text": [
      "\n",
      "Accuracy training\n",
      "0.98812\n",
      "\n",
      "Accuray Test-set\n",
      "0.98716\n"
     ]
    }
   ],
   "source": [
    "# Calculate accuracy\n",
    "percentage_train = sum([ y_train[i] == train_predictions[i] for i in range(25000)]) / float(25000)\n",
    "percentage_test =  sum([ y_test[i] == test_predictions[i] for i in range(25000)]) / float(25000)\n",
    "    \n",
    "print (\"\\nAccuracy training\")\n",
    "print (percentage_train)\n",
    "print (\"\\nAccuray Test-set\")\n",
    "print (percentage_test)"
   ]
  },
  {
   "cell_type": "code",
   "execution_count": null,
   "metadata": {},
   "outputs": [],
   "source": []
  }
 ],
 "metadata": {
  "kernelspec": {
   "display_name": "Python 3",
   "language": "python",
   "name": "python3"
  },
  "language_info": {
   "codemirror_mode": {
    "name": "ipython",
    "version": 3
   },
   "file_extension": ".py",
   "mimetype": "text/x-python",
   "name": "python",
   "nbconvert_exporter": "python",
   "pygments_lexer": "ipython3",
   "version": "3.6.6"
  }
 },
 "nbformat": 4,
 "nbformat_minor": 2
}
