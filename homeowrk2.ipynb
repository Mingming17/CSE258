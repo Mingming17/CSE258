{
 "cells": [
  {
   "cell_type": "code",
   "execution_count": 1,
   "metadata": {},
   "outputs": [],
   "source": [
    "import numpy\n",
    "import urllib\n",
    "import scipy.optimize\n",
    "import random\n",
    "from math import exp\n",
    "from math import log"
   ]
  },
  {
   "cell_type": "code",
   "execution_count": 2,
   "metadata": {},
   "outputs": [],
   "source": [
    "def parseData(fname):\n",
    "  for l in urllib.request.urlopen(fname):\n",
    "    yield eval(l)"
   ]
  },
  {
   "cell_type": "code",
   "execution_count": 3,
   "metadata": {},
   "outputs": [
    {
     "name": "stdout",
     "output_type": "stream",
     "text": [
      "Reading data...\n",
      "done\n"
     ]
    }
   ],
   "source": [
    "print (\"Reading data...\")\n",
    "data = list(parseData(\"http://jmcauley.ucsd.edu/cse190/data/beer/beer_50000.json\"))\n",
    "print (\"done\")"
   ]
  },
  {
   "cell_type": "code",
   "execution_count": 4,
   "metadata": {},
   "outputs": [],
   "source": [
    "n=len(data)\n",
    "random.shuffle(data)\n",
    "data_train=data[:int(n/3)]\n",
    "data_test=data[int(n/3):int(n/3)*2]\n",
    "data_valid=data[int(n/3)*2:]"
   ]
  },
  {
   "cell_type": "code",
   "execution_count": 5,
   "metadata": {},
   "outputs": [],
   "source": [
    "def feature(datum):\n",
    "  feat = [1, datum['review/taste'], datum['review/appearance'], datum['review/aroma'], datum['review/palate'], datum['review/overall']]\n",
    "  return feat"
   ]
  },
  {
   "cell_type": "code",
   "execution_count": 6,
   "metadata": {},
   "outputs": [],
   "source": [
    "X = [feature(d) for d in data]\n",
    "y = [d['beer/ABV'] >= 6.5 for d in data]"
   ]
  },
  {
   "cell_type": "code",
   "execution_count": 7,
   "metadata": {},
   "outputs": [],
   "source": [
    "def inner(x,y):\n",
    "  return sum([x[i]*y[i] for i in range(len(x))])\n"
   ]
  },
  {
   "cell_type": "code",
   "execution_count": 8,
   "metadata": {},
   "outputs": [],
   "source": [
    "def sigmoid(x):\n",
    "  return 1.0 / (1 + exp(-x))"
   ]
  },
  {
   "cell_type": "code",
   "execution_count": 9,
   "metadata": {},
   "outputs": [],
   "source": [
    "# NEGATIVE Log-likelihood\n",
    "def f(theta, X, y, lam):\n",
    "  loglikelihood = 0\n",
    "  for i in range(len(X)):\n",
    "    logit = inner(X[i], theta)\n",
    "    loglikelihood -= log(1 + exp(-logit))\n",
    "    if not y[i]:\n",
    "      loglikelihood -= logit\n",
    "  for k in range(len(theta)):\n",
    "    loglikelihood -= lam * theta[k]*theta[k]\n",
    "  # for debugging\n",
    "  # print(\"ll =\" + str(loglikelihood))\n",
    "  return -loglikelihood"
   ]
  },
  {
   "cell_type": "code",
   "execution_count": 10,
   "metadata": {},
   "outputs": [],
   "source": [
    "# NEGATIVE Derivative of log-likelihood\n",
    "def fprime(theta, X, y, lam):\n",
    "  dl = [0]*len(theta)\n",
    "  for i in range(len(X)):\n",
    "    logit = inner(X[i], theta)\n",
    "    for k in range(len(theta)):\n",
    "      dl[k] += X[i][k] * (1 - sigmoid(logit))\n",
    "      if not y[i]:\n",
    "        dl[k] -= X[i][k]\n",
    "  for k in range(len(theta)):\n",
    "    dl[k] -= lam*2*theta[k]\n",
    "  return numpy.array([-x for x in dl])"
   ]
  },
  {
   "cell_type": "code",
   "execution_count": 11,
   "metadata": {},
   "outputs": [],
   "source": [
    "X_train = X\n",
    "y_train = y"
   ]
  },
  {
   "cell_type": "code",
   "execution_count": 12,
   "metadata": {},
   "outputs": [],
   "source": [
    "def train(lam):\n",
    "  theta,_,_ = scipy.optimize.fmin_l_bfgs_b(f, [0]*len(X[0]), fprime, pgtol = 10, args = (X, y, lam))\n",
    "  return theta"
   ]
  },
  {
   "cell_type": "code",
   "execution_count": 13,
   "metadata": {},
   "outputs": [],
   "source": [
    "def performance(theta):\n",
    "  scores = [inner(theta,x) for x in X]\n",
    "  predictions = [s > 0 for s in scores]\n",
    "  correct = [(a==b) for (a,b) in zip(predictions,y_train)]\n",
    "  acc = sum(correct) * 1.0 / len(correct)\n",
    "  return acc"
   ]
  },
  {
   "cell_type": "markdown",
   "metadata": {},
   "source": [
    "##1"
   ]
  },
  {
   "cell_type": "markdown",
   "metadata": {},
   "source": [
    "train data"
   ]
  },
  {
   "cell_type": "code",
   "execution_count": 14,
   "metadata": {},
   "outputs": [
    {
     "name": "stdout",
     "output_type": "stream",
     "text": [
      "Training accuracy: 0.71856\n"
     ]
    }
   ],
   "source": [
    "X3 = [feature(d) for d in data_train]\n",
    "y3 = [d['beer/ABV'] >= 6.5 for d in data_train]\n",
    "def train(lam):\n",
    "  theta,_,_ = scipy.optimize.fmin_l_bfgs_b(f, [0]*len(X[0]), fprime, pgtol = 10, args = (X3, y3, lam))\n",
    "  return theta\n",
    "def performance_test(theta):\n",
    "  scores = [inner(theta,x) for x in X3]\n",
    "  predictions = [s > 0 for s in scores]\n",
    "  correct = [(a==b) for (a,b) in zip(predictions,y3)]\n",
    "  acc = sum(correct) * 1.0 / len(correct)\n",
    "  return acc\n",
    "lam = 1.0\n",
    "theta = train(lam)\n",
    "acc_train = performance(theta)\n",
    "print (\"Training accuracy: {0:.5f}\".format(acc_train))\n"
   ]
  },
  {
   "cell_type": "markdown",
   "metadata": {},
   "source": [
    "test data"
   ]
  },
  {
   "cell_type": "code",
   "execution_count": 15,
   "metadata": {},
   "outputs": [
    {
     "name": "stdout",
     "output_type": "stream",
     "text": [
      "Testing accuracy: 0.71886\n"
     ]
    }
   ],
   "source": [
    "X1 = [feature(d) for d in data_test]\n",
    "y1 = [d['beer/ABV'] >= 6.5 for d in data_test]\n",
    "def train(lam):\n",
    "  theta,_,_ = scipy.optimize.fmin_l_bfgs_b(f, [0]*len(X[0]), fprime, pgtol = 10, args = (X1, y1, lam))\n",
    "  return theta\n",
    "def performance_test(theta):\n",
    "  scores = [inner(theta,x) for x in X1]\n",
    "  predictions = [s > 0 for s in scores]\n",
    "  correct = [(a==b) for (a,b) in zip(predictions,y1)]\n",
    "  acc = sum(correct) * 1.0 / len(correct)\n",
    "  return acc\n",
    "lam = 1.0\n",
    "theta = train(lam)\n",
    "acc_test = performance(theta)\n",
    "print (\"Testing accuracy: {0:.5f}\".format(acc_test))"
   ]
  },
  {
   "cell_type": "markdown",
   "metadata": {},
   "source": [
    "valid data"
   ]
  },
  {
   "cell_type": "code",
   "execution_count": 16,
   "metadata": {},
   "outputs": [
    {
     "name": "stdout",
     "output_type": "stream",
     "text": [
      "validating accuracy: 0.71858\n"
     ]
    }
   ],
   "source": [
    "X2 = [feature(d) for d in data_valid]\n",
    "y2 = [d['beer/ABV'] >= 6.5 for d in data_valid]\n",
    "def train(lam):\n",
    "  theta,_,_ = scipy.optimize.fmin_l_bfgs_b(f, [0]*len(X[0]), fprime, pgtol = 10, args = (X2, y2, lam))\n",
    "  return theta\n",
    "def performance_test(theta):\n",
    "  scores = [inner(theta,x) for x in X2]\n",
    "  predictions = [s > 0 for s in scores]\n",
    "  correct = [(a==b) for (a,b) in zip(predictions,y2)]\n",
    "  acc = sum(correct) * 1.0 / len(correct)\n",
    "  return acc\n",
    "lam = 1.0\n",
    "theta = train(lam)\n",
    "acc_val = performance(theta)\n",
    "print (\"validating accuracy: {0:.5f}\".format(acc_val))"
   ]
  },
  {
   "cell_type": "code",
   "execution_count": 17,
   "metadata": {},
   "outputs": [],
   "source": [
    "##2"
   ]
  },
  {
   "cell_type": "code",
   "execution_count": 18,
   "metadata": {},
   "outputs": [],
   "source": [
    "X4 = [feature(d) for d in data_test]\n",
    "y4= [d['beer/ABV'] >= 6.5 for d in data_test]"
   ]
  },
  {
   "cell_type": "code",
   "execution_count": 19,
   "metadata": {},
   "outputs": [],
   "source": [
    "def pn(theta):\n",
    "  scores = [inner(theta,x) for x in X4]\n",
    "  predictions = [s > 0 for s in scores]\n",
    "  correct = [(a==b) for (a,b) in zip(predictions,y4)]\n",
    "  TP=[(a==1 and b==1) for (a,b) in zip(predictions,y4)]\n",
    "  FP=[(a==1 and b==0) for (a,b) in zip(predictions,y4)]\n",
    "  TN=[(a==0 and b==0) for (a,b) in zip(predictions,y4)]\n",
    "  FN=[(a==0 and b==1) for (a,b) in zip(predictions,y4)]\n",
    "  tp=sum(TP)\n",
    "  fp=sum(FP)\n",
    "  tn=sum(TN)\n",
    "  fn=sum(FN)\n",
    "  positive=tp+fp\n",
    "  negative=tn+fn\n",
    "  return positive,negative,tp,fp,tn,fn"
   ]
  },
  {
   "cell_type": "code",
   "execution_count": 20,
   "metadata": {},
   "outputs": [],
   "source": [
    "lam=1.0\n",
    "theta=train(lam)\n",
    "answer=pn(theta)"
   ]
  },
  {
   "cell_type": "code",
   "execution_count": 21,
   "metadata": {},
   "outputs": [
    {
     "name": "stdout",
     "output_type": "stream",
     "text": [
      "positive,negative,tp,fp,tn,fn\n",
      "(12399, 4267, 8968, 3431, 2945, 1322)\n"
     ]
    }
   ],
   "source": [
    "print(\"positive,negative,tp,fp,tn,fn\")\n",
    "print(answer)"
   ]
  },
  {
   "cell_type": "code",
   "execution_count": 22,
   "metadata": {},
   "outputs": [],
   "source": [
    "##4"
   ]
  },
  {
   "cell_type": "markdown",
   "metadata": {},
   "source": [
    "train data"
   ]
  },
  {
   "cell_type": "code",
   "execution_count": 23,
   "metadata": {},
   "outputs": [
    {
     "name": "stdout",
     "output_type": "stream",
     "text": [
      "0 validating accuracy: 0.71870\n",
      "0.01 validating accuracy: 0.71870\n",
      "0.1 validating accuracy: 0.71852\n",
      "100.0 validating accuracy: 0.66822\n"
     ]
    }
   ],
   "source": [
    "X3 = [feature(d) for d in data_train]\n",
    "y3 = [d['beer/ABV'] >= 6.5 for d in data_train]\n",
    "def train(lam):\n",
    "  theta,_,_ = scipy.optimize.fmin_l_bfgs_b(f, [0]*len(X[0]), fprime, pgtol = 10, args = (X3, y3, lam))\n",
    "  return theta\n",
    "def performance_test(theta):\n",
    "  scores = [inner(theta,x) for x in X3]\n",
    "  predictions = [s > 0 for s in scores]\n",
    "  correct = [(a==b) for (a,b) in zip(predictions,y3)]\n",
    "  acc = sum(correct) * 1.0 / len(correct)\n",
    "  return acc\n",
    "for lam in [0, 0.01, 0.1, 100.0]:\n",
    "    theta = train(lam)\n",
    "    acc_val = performance(theta)\n",
    "    print (lam,\"validating accuracy: {0:.5f}\".format(acc_val))"
   ]
  },
  {
   "cell_type": "markdown",
   "metadata": {},
   "source": [
    "test data"
   ]
  },
  {
   "cell_type": "code",
   "execution_count": 24,
   "metadata": {},
   "outputs": [
    {
     "name": "stdout",
     "output_type": "stream",
     "text": [
      "0 Testing accuracy: 0.71974\n",
      "0.01 Testing accuracy: 0.71974\n",
      "0.1 Testing accuracy: 0.71976\n",
      "100.0 Testing accuracy: 0.67308\n"
     ]
    }
   ],
   "source": [
    "X1 = [feature(d) for d in data_test]\n",
    "y1 = [d['beer/ABV'] >= 6.5 for d in data_test]\n",
    "def train(lam):\n",
    "  theta,_,_ = scipy.optimize.fmin_l_bfgs_b(f, [0]*len(X[0]), fprime, pgtol = 10, args = (X1, y1, lam))\n",
    "  return theta\n",
    "def performance_test(theta):\n",
    "  scores = [inner(theta,x) for x in X1]\n",
    "  predictions = [s > 0 for s in scores]\n",
    "  correct = [(a==b) for (a,b) in zip(predictions,y1)]\n",
    "  acc = sum(correct) * 1.0 / len(correct)\n",
    "  return acc\n",
    "for lam in [0, 0.01, 0.1, 100.0]:\n",
    "    theta = train(lam)\n",
    "    acc_test = performance(theta)\n",
    "    print (lam,\"Testing accuracy: {0:.5f}\".format(acc_test))"
   ]
  },
  {
   "cell_type": "markdown",
   "metadata": {},
   "source": [
    "valid data"
   ]
  },
  {
   "cell_type": "code",
   "execution_count": 25,
   "metadata": {},
   "outputs": [
    {
     "name": "stdout",
     "output_type": "stream",
     "text": [
      "0 validating accuracy: 0.71918\n",
      "0.01 validating accuracy: 0.71920\n",
      "0.1 validating accuracy: 0.71884\n",
      "100.0 validating accuracy: 0.67208\n"
     ]
    }
   ],
   "source": [
    "X2 = [feature(d) for d in data_valid]\n",
    "y2 = [d['beer/ABV'] >= 6.5 for d in data_valid]\n",
    "def train(lam):\n",
    "  theta,_,_ = scipy.optimize.fmin_l_bfgs_b(f, [0]*len(X[0]), fprime, pgtol = 10, args = (X2, y2, lam))\n",
    "  return theta\n",
    "def performance_test(theta):\n",
    "  scores = [inner(theta,x) for x in X2]\n",
    "  predictions = [s > 0 for s in scores]\n",
    "  correct = [(a==b) for (a,b) in zip(predictions,y2)]\n",
    "  acc = sum(correct) * 1.0 / len(correct)\n",
    "  return acc\n",
    "for lam in [0, 0.01, 0.1, 100.0]:\n",
    "    theta = train(lam)\n",
    "    acc_val = performance(theta)\n",
    "    print (lam,\"validating accuracy: {0:.5f}\".format(acc_val))"
   ]
  },
  {
   "cell_type": "code",
   "execution_count": 26,
   "metadata": {},
   "outputs": [],
   "source": [
    "##5"
   ]
  },
  {
   "cell_type": "code",
   "execution_count": 27,
   "metadata": {},
   "outputs": [
    {
     "name": "stdout",
     "output_type": "stream",
     "text": [
      "Collecting networkx\n",
      "Collecting decorator>=4.3.0 (from networkx)\n",
      "  Using cached https://files.pythonhosted.org/packages/bc/bb/a24838832ba35baf52f32ab1a49b906b5f82fb7c76b2f6a7e35e140bac30/decorator-4.3.0-py2.py3-none-any.whl\n",
      "Installing collected packages: decorator, networkx\n",
      "Successfully installed decorator-4.3.0 networkx-2.2\n"
     ]
    }
   ],
   "source": [
    "!pip3 install --user networkx"
   ]
  },
  {
   "cell_type": "code",
   "execution_count": 28,
   "metadata": {},
   "outputs": [],
   "source": [
    "import numpy\n",
    "import urllib\n",
    "import scipy.optimize\n",
    "import random\n",
    "from sklearn.decomposition import PCA\n",
    "from collections import defaultdict\n",
    "import networkx as nx\n",
    "import matplotlib.pyplot as plt"
   ]
  },
  {
   "cell_type": "code",
   "execution_count": 29,
   "metadata": {},
   "outputs": [
    {
     "data": {
      "image/png": "[encoded data removed]",
      "text/plain": [
       "<Figure size 432x288 with 1 Axes>"
      ]
     },
     "metadata": {},
     "output_type": "display_data"
    },
    {
     "data": {
      "text/plain": [
       "<Figure size 432x288 with 0 Axes>"
      ]
     },
     "metadata": {},
     "output_type": "display_data"
    }
   ],
   "source": [
    "G = nx.karate_club_graph()\n",
    "nx.draw(G)\n",
    "plt.show()\n",
    "plt.clf()"
   ]
  },
  {
   "cell_type": "code",
   "execution_count": 30,
   "metadata": {},
   "outputs": [],
   "source": [
    "edges = set()\n",
    "nodes = set()\n",
    "for edge in urllib.request.urlopen(\"http://jmcauley.ucsd.edu/cse255/data/facebook/egonet.txt\"):\n",
    "  x,y = edge.split()\n",
    "  x,y = int(x),int(y)\n",
    "  edges.add((x,y))\n",
    "  edges.add((y,x))\n",
    "  nodes.add(x)\n",
    "  nodes.add(y)"
   ]
  },
  {
   "cell_type": "code",
   "execution_count": 31,
   "metadata": {},
   "outputs": [
    {
     "data": {
      "image/png": "[encoded data removed]",
      "text/plain": [
       "<Figure size 432x288 with 1 Axes>"
      ]
     },
     "metadata": {},
     "output_type": "display_data"
    },
    {
     "data": {
      "text/plain": [
       "<Figure size 432x288 with 0 Axes>"
      ]
     },
     "metadata": {},
     "output_type": "display_data"
    }
   ],
   "source": [
    "G = nx.Graph()\n",
    "for e in edges:\n",
    "  G.add_edge(e[0],e[1])\n",
    "nx.draw(G)\n",
    "plt.show()\n",
    "plt.clf()"
   ]
  },
  {
   "cell_type": "markdown",
   "metadata": {},
   "source": [
    "There are 3 connected components are in the graph"
   ]
  },
  {
   "cell_type": "code",
   "execution_count": 32,
   "metadata": {},
   "outputs": [
    {
     "name": "stdout",
     "output_type": "stream",
     "text": [
      "40\n"
     ]
    }
   ],
   "source": [
    "Gc = max(nx.connected_component_subgraphs(G), key=len)\n",
    "print(Gc.number_of_nodes())"
   ]
  },
  {
   "cell_type": "markdown",
   "metadata": {},
   "source": [
    "There are 40 nodes are in the largest connected component."
   ]
  },
  {
   "cell_type": "code",
   "execution_count": 33,
   "metadata": {},
   "outputs": [],
   "source": [
    "##6"
   ]
  },
  {
   "cell_type": "code",
   "execution_count": 34,
   "metadata": {},
   "outputs": [
    {
     "name": "stdout",
     "output_type": "stream",
     "text": [
      "0.4224058769513316\n"
     ]
    }
   ],
   "source": [
    "largest = sorted(Gc.nodes())## sort\n",
    "lo = largest[:20]## lowest 50 % nodes\n",
    "hi = largest[20:] ## highest 50% nodes\n",
    "print (nx.normalized_cut_size(Gc, lo, hi)/2)"
   ]
  },
  {
   "cell_type": "code",
   "execution_count": 35,
   "metadata": {},
   "outputs": [],
   "source": [
    "##7"
   ]
  },
  {
   "cell_type": "code",
   "execution_count": 36,
   "metadata": {},
   "outputs": [
    {
     "name": "stdout",
     "output_type": "stream",
     "text": [
      "(0.3873319662793347, 5)\n",
      "0.3873319662793347\n",
      "(0.34545454545454546, 14)\n",
      "0.34545454545454546\n",
      "(0.3409724948854126, 13)\n",
      "0.30683403068340304\n",
      "(0.3003972194637537, 7)\n",
      "0.26663264655227403\n",
      "(0.2607738548810431, 13)\n",
      "0.2257691215965414\n",
      "(0.2195418257549462, 13)\n",
      "0.17876489707475623\n",
      "(0.17854401087934021, 7)\n",
      "0.1471436149357688\n",
      "(0.14732142857142858, 7)\n",
      "0.12950012950012948\n",
      "(0.1341966966966967, 11)\n",
      "0.111295801112958\n",
      "(0.1161339859871389, 11)\n",
      "0.09817045961624274\n",
      "(0.10366140968430389, 11)\n",
      "0.10366140968430389\n",
      "(0.1161339859871389, 21)\n",
      "0.09817045961624274\n",
      "(0.10366140968430389, 11)\n",
      "0.10366140968430389\n",
      "(0.1161339859871389, 21)\n",
      "0.09817045961624274\n",
      "(0.10366140968430389, 11)\n",
      "0.10366140968430389\n",
      "(0.1161339859871389, 21)\n",
      "0.09817045961624274\n",
      "(0.10366140968430389, 11)\n",
      "0.10366140968430389\n",
      "(0.1161339859871389, 21)\n",
      "0.09817045961624274\n",
      "(0.10366140968430389, 11)\n",
      "0.10366140968430389\n",
      "(0.1161339859871389, 21)\n",
      "0.09817045961624274\n",
      "(0.10366140968430389, 11)\n",
      "0.10366140968430389\n",
      "(0.1161339859871389, 21)\n",
      "0.09817045961624274\n",
      "(0.10366140968430389, 11)\n",
      "0.10366140968430389\n",
      "(0.1161339859871389, 21)\n",
      "0.09817045961624274\n",
      "(0.10366140968430389, 11)\n",
      "0.10366140968430389\n",
      "(0.1161339859871389, 21)\n",
      "0.09817045961624274\n",
      "(0.10366140968430389, 11)\n",
      "0.10366140968430389\n",
      "(0.1161339859871389, 21)\n",
      "0.09817045961624274\n",
      "(0.10366140968430389, 11)\n",
      "0.10366140968430389\n",
      "(0.1161339859871389, 21)\n",
      "0.09817045961624274\n",
      "(0.10366140968430389, 11)\n",
      "0.10366140968430389\n",
      "(0.1161339859871389, 21)\n",
      "0.09817045961624274\n",
      "(0.10366140968430389, 11)\n",
      "0.10366140968430389\n",
      "(0.1161339859871389, 21)\n",
      "0.09817045961624274\n",
      "(0.10366140968430389, 11)\n",
      "0.10366140968430389\n",
      "(0.1161339859871389, 21)\n",
      "0.09817045961624274\n",
      "(0.10366140968430389, 11)\n",
      "0.10366140968430389\n",
      "(0.1161339859871389, 21)\n",
      "0.09817045961624274\n",
      "(0.10366140968430389, 11)\n",
      "0.10366140968430389\n",
      "(0.1161339859871389, 21)\n",
      "0.09817045961624274\n",
      "(0.10366140968430389, 11)\n",
      "0.10366140968430389\n",
      "(0.1161339859871389, 21)\n",
      "0.09817045961624274\n",
      "(0.10366140968430389, 11)\n",
      "0.10366140968430389\n",
      "(0.1161339859871389, 21)\n",
      "0.09817045961624274\n",
      "(0.10366140968430389, 11)\n",
      "0.10366140968430389\n",
      "(0.1161339859871389, 21)\n",
      "0.09817045961624274\n",
      "(0.10366140968430389, 11)\n",
      "0.10366140968430389\n",
      "(0.1161339859871389, 21)\n",
      "0.09817045961624274\n",
      "(0.10366140968430389, 11)\n",
      "0.10366140968430389\n",
      "(0.1161339859871389, 21)\n",
      "0.09817045961624274\n"
     ]
    }
   ],
   "source": [
    "for k in range(50):\n",
    "    cut1 = []\n",
    "    cut2 = []\n",
    "    for i in range(len(lo)):\n",
    "        a = lo[i]\n",
    "        hi.append(a)\n",
    "        lo.remove(a)\n",
    "        temp1 = nx.normalized_cut_size(Gc, lo, hi)/2\n",
    "        cut1.append((temp1, i))\n",
    "        lo.append(a)\n",
    "        hi.remove(a)\n",
    "        lo = sorted(lo)\n",
    "        #print (lo)\n",
    "    for j in range(len(hi)):\n",
    "        a = hi[j]\n",
    "        lo.append(a)\n",
    "        hi.remove(a)\n",
    "        temp2 = nx.normalized_cut_size(Gc, lo, hi)/2\n",
    "        cut2.append((temp2, j))\n",
    "        hi.append(a)\n",
    "        lo.remove(a)\n",
    "        hi = sorted(hi)\n",
    "    x1, i = min(cut1)\n",
    "    print(min(cut1))\n",
    "    x2, j = min(cut2)\n",
    "    if x1 < x2:\n",
    "        a = lo[i]\n",
    "        hi.append(a)\n",
    "        lo.remove(a)\n",
    "        print(x1)\n",
    "    else:\n",
    "        a = hi[j]\n",
    "        lo.append(a)\n",
    "        hi.remove(a)\n",
    "        x = x2\n",
    "        print(x2)   "
   ]
  },
  {
   "cell_type": "markdown",
   "metadata": {},
   "source": [
    " The normalized cut cost is 0.09817045961624274"
   ]
  },
  {
   "cell_type": "code",
   "execution_count": 37,
   "metadata": {},
   "outputs": [],
   "source": [
    "##8"
   ]
  },
  {
   "cell_type": "code",
   "execution_count": 38,
   "metadata": {},
   "outputs": [],
   "source": [
    "import matplotlib.pyplot as plt\n",
    "import networkx as nx\n",
    "import numpy as  np\n",
    "import networkx as nx"
   ]
  },
  {
   "cell_type": "code",
   "execution_count": 39,
   "metadata": {},
   "outputs": [],
   "source": [
    "def mod(comm,G):\n",
    "    k=2\n",
    "    m=G.number_of_edges()\n",
    "    edges=G.edges()\n",
    "    e=np.zeros((k,k),np.float)\n",
    "    for i in range(k):\n",
    "        for j in range(k):\n",
    "            bian=0\n",
    "            for x in comm[i]:\n",
    "                for y in comm[j]:\n",
    "                    if x<y:\n",
    "                        if (x,y) in edges:\n",
    "                            bian=bian+1\n",
    "                    else:\n",
    "                        if (y,x) in edges:\n",
    "                            bian=bian+1\n",
    "            if i==j:\n",
    "                bian=bian/2\n",
    "            if i==j:\n",
    "                e[i,j]=bian*1.0/m\n",
    "            else:\n",
    "                e[i,j]=bian*0.5/m\n",
    "    a=np.zeros(k,np.float)\n",
    "    for i in range(k):\n",
    "        he=0\n",
    "        for j in range(k):\n",
    "            he=he+e[i,j]\n",
    "        a[i]=he\n",
    "    QValue=0\n",
    "    for i in range(k):\n",
    "        QValue=QValue+e[i,i]-a[i]*a[i]\n",
    "    return QValue\n"
   ]
  },
  {
   "cell_type": "code",
   "execution_count": 40,
   "metadata": {},
   "outputs": [
    {
     "name": "stdout",
     "output_type": "stream",
     "text": [
      "0.33801652892561984\n"
     ]
    }
   ],
   "source": [
    "nodes = sorted(Gc.nodes())## sort\n",
    "lo = nodes[:20]## lowest 50 % nodes\n",
    "hi = nodes[20:] ## highest 50% nodes\n",
    "comm = [lo, hi]\n",
    "v = mod([lo, hi], Gc)\n",
    "for k in range(101):\n",
    "    cut1 = []\n",
    "    cut2 = []\n",
    "    for i in range(len(lo)):\n",
    "        a = lo[i]\n",
    "        hi.append(a)\n",
    "        lo.remove(a)\n",
    "        temp1 = mod([lo, hi], Gc)\n",
    "        cut1.append((temp1, i))\n",
    "        lo.append(a)\n",
    "        hi.remove(a)\n",
    "        lo = sorted(lo)\n",
    "        #print (lo)\n",
    "    for j in range(len(hi)):\n",
    "        a = hi[j]\n",
    "        lo.append(a)\n",
    "        hi.remove(a)\n",
    "        temp2 = mod([lo, hi], Gc)\n",
    "        cut2.append((temp2, j))\n",
    "        hi.append(a)\n",
    "        lo.remove(a)\n",
    "        hi = sorted(hi)\n",
    "    x1, i = max(cut1)\n",
    "    x2, j = max(cut2)\n",
    "    if x1 > x2:\n",
    "        a = lo[i]\n",
    "        hi.append(a)\n",
    "        lo.remove(a)\n",
    "        #print(x1)\n",
    "        ans = x1\n",
    "    else:\n",
    "        a = hi[j]\n",
    "        lo.append(a)\n",
    "        hi.remove(a)\n",
    "        x = x2\n",
    "        #print(x2) \n",
    "        ans = x2\n",
    "\n",
    "print (ans)\n"
   ]
  },
  {
   "cell_type": "code",
   "execution_count": 41,
   "metadata": {},
   "outputs": [
    {
     "name": "stdout",
     "output_type": "stream",
     "text": [
      "[697, 703, 708, 713, 719, 745, 747, 772, 774, 800, 803, 805, 810, 819, 823, 828, 830, 840, 880]\n",
      "[729, 753, 769, 804, 811, 825, 856, 861, 863, 864, 869, 876, 878, 882, 884, 886, 888, 889, 890, 893, 798]\n"
     ]
    }
   ],
   "source": [
    "print(lo)\n",
    "print(hi)"
   ]
  },
  {
   "cell_type": "markdown",
   "metadata": {},
   "source": [
    " modularity values is 0.33801652892561984"
   ]
  },
  {
   "cell_type": "code",
   "execution_count": null,
   "metadata": {},
   "outputs": [],
   "source": []
  }
 ],
 "metadata": {
  "kernelspec": {
   "display_name": "Python 3",
   "language": "python",
   "name": "python3"
  },
  "language_info": {
   "codemirror_mode": {
    "name": "ipython",
    "version": 3
   },
   "file_extension": ".py",
   "mimetype": "text/x-python",
   "name": "python",
   "nbconvert_exporter": "python",
   "pygments_lexer": "ipython3",
   "version": "3.6.6"
  }
 },
 "nbformat": 4,
 "nbformat_minor": 2
}
